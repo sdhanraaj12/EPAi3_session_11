{
 "cells": [
  {
   "cell_type": "code",
   "execution_count": 1,
   "metadata": {},
   "outputs": [],
   "source": [
    "# Importing necessary packages\n",
    "from polygon import regular_polygon\n",
    "from customPolygon import custom_polygon_iterable"
   ]
  },
  {
   "cell_type": "markdown",
   "metadata": {},
   "source": [
    "### Class custom_polygon_iterable"
   ]
  },
  {
   "cell_type": "code",
   "execution_count": 2,
   "metadata": {},
   "outputs": [],
   "source": [
    "# Creating a custom_polygon_sequence object\n",
    "polygons = custom_polygon_iterable(25, 10)"
   ]
  },
  {
   "cell_type": "code",
   "execution_count": 3,
   "metadata": {},
   "outputs": [
    {
     "name": "stdout",
     "output_type": "stream",
     "text": [
      "This is a polygon sequence with the largest polygon having 25 sides and each polygon having 10 unit circum_radius\n"
     ]
    }
   ],
   "source": [
    "# Checking the repr method of the class\n",
    "print(polygons)"
   ]
  },
  {
   "cell_type": "code",
   "execution_count": 4,
   "metadata": {},
   "outputs": [
    {
     "name": "stdout",
     "output_type": "stream",
     "text": [
      "The area-perimeter ratio of the max efficient polygon is 4.96 with 25 vertices\n"
     ]
    }
   ],
   "source": [
    "# Checking the polygon with highest area to perimeter ratio\n",
    "print(polygons.max_efficiency_polygon)"
   ]
  },
  {
   "cell_type": "code",
   "execution_count": 5,
   "metadata": {},
   "outputs": [
    {
     "name": "stdout",
     "output_type": "stream",
     "text": [
      "The polygon area/perimeter ratio with 0 sides : Not a polygon\n",
      "The polygon area/perimeter ratio with 1 sides : Not a polygon\n",
      "The polygon area/perimeter ratio with 2 sides : Not a polygon\n",
      "The polygon area/perimeter ratio with 3 sides : 2.5000000000000004\n",
      "The polygon area/perimeter ratio with 4 sides : 3.535533905932738\n",
      "The polygon area/perimeter ratio with 5 sides : 4.045084971874737\n",
      "The polygon area/perimeter ratio with 6 sides : 4.330127018922194\n",
      "The polygon area/perimeter ratio with 7 sides : 4.504844339512096\n",
      "The polygon area/perimeter ratio with 8 sides : 4.619397662556434\n",
      "The polygon area/perimeter ratio with 9 sides : 4.698463103929543\n"
     ]
    }
   ],
   "source": [
    "# Proof that the object is a sequence, implementation of __getitem__()\n",
    "for i in range(0, 10):\n",
    "    print(f'The polygon area/perimeter ratio with {i} sides : '+ str(polygons.__getitem__(i)))"
   ]
  },
  {
   "cell_type": "code",
   "execution_count": 6,
   "metadata": {},
   "outputs": [
    {
     "name": "stdout",
     "output_type": "stream",
     "text": [
      "The polygon area/perimeter ratio with 20 sides : 4.938441702975689\n",
      "The polygon area/perimeter ratio with 25 sides : 4.9605735065723895\n"
     ]
    }
   ],
   "source": [
    "# Proof that the object is a sequence, implementation of indexing\n",
    "print(f'The polygon area/perimeter ratio with 20 sides : ' + str(polygons[20]))\n",
    "print(f'The polygon area/perimeter ratio with {len(polygons)} sides : ' + str(polygons[-1]))"
   ]
  },
  {
   "cell_type": "code",
   "execution_count": 7,
   "metadata": {},
   "outputs": [
    {
     "name": "stdout",
     "output_type": "stream",
     "text": [
      "The polygon area/perimeter ratio with 0 sides: Not a polygon\n",
      "The polygon area/perimeter ratio with 1 sides: Not a polygon\n",
      "The polygon area/perimeter ratio with 2 sides: Not a polygon\n",
      "The polygon area/perimeter ratio with 3 sides: 2.5000000000000004\n",
      "The polygon area/perimeter ratio with 4 sides: 3.535533905932738\n",
      "The polygon area/perimeter ratio with 5 sides: 4.045084971874737\n",
      "The polygon area/perimeter ratio with 6 sides: 4.330127018922194\n",
      "The polygon area/perimeter ratio with 7 sides: 4.504844339512096\n",
      "The polygon area/perimeter ratio with 8 sides: 4.619397662556434\n",
      "The polygon area/perimeter ratio with 9 sides: 4.698463103929543\n",
      "The polygon area/perimeter ratio with 10 sides: 4.755282581475767\n",
      "The polygon area/perimeter ratio with 11 sides: 4.7974648680724865\n",
      "The polygon area/perimeter ratio with 12 sides: 4.8296291314453415\n",
      "The polygon area/perimeter ratio with 13 sides: 4.85470908713026\n",
      "The polygon area/perimeter ratio with 14 sides: 4.874639560909118\n",
      "The polygon area/perimeter ratio with 15 sides: 4.8907380036690284\n",
      "The polygon area/perimeter ratio with 16 sides: 4.903926402016152\n",
      "The polygon area/perimeter ratio with 17 sides: 4.914865498419509\n",
      "The polygon area/perimeter ratio with 18 sides: 4.92403876506104\n",
      "The polygon area/perimeter ratio with 19 sides: 4.931806517013611\n",
      "The polygon area/perimeter ratio with 20 sides: 4.938441702975689\n",
      "The polygon area/perimeter ratio with 21 sides: 4.944154131125643\n",
      "The polygon area/perimeter ratio with 22 sides: 4.949107209404663\n",
      "The polygon area/perimeter ratio with 23 sides: 4.953429730181654\n",
      "The polygon area/perimeter ratio with 24 sides: 4.957224306869052\n"
     ]
    }
   ],
   "source": [
    "# Proof that the custom polygon class is a iterable\n",
    "\n",
    "for i, polys in enumerate(polygons):\n",
    "    print(f'The polygon area/perimeter ratio with {i} sides: {polys}')"
   ]
  },
  {
   "cell_type": "code",
   "execution_count": 8,
   "metadata": {},
   "outputs": [
    {
     "name": "stdout",
     "output_type": "stream",
     "text": [
      "Not a polygon\n",
      "Not a polygon\n",
      "Not a polygon\n",
      "2.5000000000000004\n",
      "3.535533905932738\n",
      "4.045084971874737\n",
      "4.330127018922194\n",
      "4.504844339512096\n",
      "4.619397662556434\n",
      "4.698463103929543\n",
      "4.755282581475767\n",
      "4.7974648680724865\n",
      "4.8296291314453415\n",
      "4.85470908713026\n",
      "4.874639560909118\n",
      "4.8907380036690284\n",
      "4.903926402016152\n",
      "4.914865498419509\n",
      "4.92403876506104\n",
      "4.931806517013611\n",
      "4.938441702975689\n",
      "4.944154131125643\n",
      "4.949107209404663\n",
      "4.953429730181654\n",
      "4.957224306869052\n"
     ]
    }
   ],
   "source": [
    "# Using the polygon class as an iterable\n",
    "\n",
    "for polys in polygons:\n",
    "    print(polys)"
   ]
  },
  {
   "cell_type": "code",
   "execution_count": 9,
   "metadata": {},
   "outputs": [
    {
     "name": "stdout",
     "output_type": "stream",
     "text": [
      "The perimeter/area ratios of the polygons\n",
      "Not a polygon\n",
      "Not a polygon\n",
      "Not a polygon\n",
      "2.5000000000000004\n",
      "3.535533905932738\n",
      "4.045084971874737\n",
      "4.330127018922194\n",
      "4.504844339512096\n",
      "4.619397662556434\n",
      "4.698463103929543\n",
      "4.755282581475767\n",
      "4.7974648680724865\n",
      "4.8296291314453415\n",
      "4.85470908713026\n",
      "4.874639560909118\n",
      "4.8907380036690284\n",
      "4.903926402016152\n",
      "4.914865498419509\n",
      "4.92403876506104\n",
      "4.931806517013611\n",
      "4.938441702975689\n",
      "4.944154131125643\n",
      "4.949107209404663\n",
      "4.953429730181654\n",
      "4.957224306869052\n"
     ]
    }
   ],
   "source": [
    "# implementation of the __next__() method\n",
    "poly_iter = iter(polygons)\n",
    "print(\"The perimeter/area ratios of the polygons\")\n",
    "for i in range(len(polygons)):\n",
    "    print(next(poly_iter))"
   ]
  },
  {
   "cell_type": "code",
   "execution_count": 10,
   "metadata": {},
   "outputs": [
    {
     "ename": "StopIteration",
     "evalue": "Way past the index buddy!",
     "output_type": "error",
     "traceback": [
      "\u001b[1;31m---------------------------------------------------------------------------\u001b[0m",
      "\u001b[1;31mStopIteration\u001b[0m                             Traceback (most recent call last)",
      "\u001b[1;32m<ipython-input-10-58a7cf98efc1>\u001b[0m in \u001b[0;36m<module>\u001b[1;34m()\u001b[0m\n\u001b[0;32m      1\u001b[0m \u001b[1;31m# Getting the StopIteration exception after exhausting the poly_iter\u001b[0m\u001b[1;33m\u001b[0m\u001b[1;33m\u001b[0m\u001b[0m\n\u001b[1;32m----> 2\u001b[1;33m \u001b[0mnext\u001b[0m\u001b[1;33m(\u001b[0m\u001b[0mpoly_iter\u001b[0m\u001b[1;33m)\u001b[0m\u001b[1;33m\u001b[0m\u001b[0m\n\u001b[0m",
      "\u001b[1;32mE:\\Nikhil\\EPAi\\Assignments\\EPAi3-Session11\\customPolygon.py\u001b[0m in \u001b[0;36m__next__\u001b[1;34m(self)\u001b[0m\n\u001b[0;32m    164\u001b[0m             '''\n\u001b[0;32m    165\u001b[0m             \u001b[1;32mif\u001b[0m \u001b[0mself\u001b[0m\u001b[1;33m.\u001b[0m\u001b[0m_index\u001b[0m \u001b[1;33m>=\u001b[0m \u001b[0mlen\u001b[0m\u001b[1;33m(\u001b[0m\u001b[0mself\u001b[0m\u001b[1;33m.\u001b[0m\u001b[0m_iterable_obj\u001b[0m\u001b[1;33m)\u001b[0m\u001b[1;33m:\u001b[0m\u001b[1;33m\u001b[0m\u001b[0m\n\u001b[1;32m--> 166\u001b[1;33m                 \u001b[1;32mraise\u001b[0m \u001b[0mStopIteration\u001b[0m\u001b[1;33m(\u001b[0m\u001b[1;34m\"Way past the index buddy!\"\u001b[0m\u001b[1;33m)\u001b[0m\u001b[1;33m\u001b[0m\u001b[0m\n\u001b[0m\u001b[0;32m    167\u001b[0m             \u001b[1;32melse\u001b[0m\u001b[1;33m:\u001b[0m\u001b[1;33m\u001b[0m\u001b[0m\n\u001b[0;32m    168\u001b[0m                 \u001b[0mitem\u001b[0m \u001b[1;33m=\u001b[0m \u001b[0mself\u001b[0m\u001b[1;33m.\u001b[0m\u001b[0m_iterable_obj\u001b[0m\u001b[1;33m.\u001b[0m\u001b[0m__getitem__\u001b[0m\u001b[1;33m(\u001b[0m\u001b[0mself\u001b[0m\u001b[1;33m.\u001b[0m\u001b[0m_index\u001b[0m\u001b[1;33m)\u001b[0m\u001b[1;33m\u001b[0m\u001b[0m\n",
      "\u001b[1;31mStopIteration\u001b[0m: Way past the index buddy!"
     ]
    }
   ],
   "source": [
    "# Getting the StopIteration exception after exhausting the poly_iter\n",
    "next(poly_iter)"
   ]
  }
 ],
 "metadata": {
  "kernelspec": {
   "display_name": "Python 3",
   "language": "python",
   "name": "python3"
  },
  "language_info": {
   "codemirror_mode": {
    "name": "ipython",
    "version": 3
   },
   "file_extension": ".py",
   "mimetype": "text/x-python",
   "name": "python",
   "nbconvert_exporter": "python",
   "pygments_lexer": "ipython3",
   "version": "3.6.5"
  }
 },
 "nbformat": 4,
 "nbformat_minor": 2
}
